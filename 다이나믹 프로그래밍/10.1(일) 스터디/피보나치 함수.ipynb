{
 "cells": [
  {
   "cell_type": "markdown",
   "id": "face72f2-2ae5-4056-92f2-395e5989799f",
   "metadata": {
    "tags": []
   },
   "source": [
    "fibonacci(3)을 호출하면 다음과 같은 일이 일어난다.\n",
    "\n",
    "fibonacci(3)은 fibonacci(2)와 fibonacci(1) (첫 번째 호출)을 호출한다.  \n",
    "fibonacci(2)는 fibonacci(1) (두 번째 호출)과 fibonacci(0)을 호출한다.  \n",
    "두 번째 호출한 fibonacci(1)은 1을 출력하고 1을 리턴한다.  \n",
    "fibonacci(0)은 0을 출력하고, 0을 리턴한다.  \n",
    "fibonacci(2)는 fibonacci(1)과 fibonacci(0)의 결과를 얻고, 1을 리턴한다.  \n",
    "첫 번째 호출한 fibonacci(1)은 1을 출력하고, 1을 리턴한다.  \n",
    "fibonacci(3)은 fibonacci(2)와 fibonacci(1)의 결과를 얻고, 2를 리턴한다.  \n",
    "1은 2번 출력되고, 0은 1번 출력된다. N이 주어졌을 때, fibonacci(N)을 호출했을 때, 0과 1이 각각 몇 번 출력되는지 구하는 프로그램을 작성하시오.  \n",
    "\n",
    "입력  \n",
    "첫째 줄에 테스트 케이스의 개수 T가 주어진다.  \n",
    "\n",
    "각 테스트 케이스는 한 줄로 이루어져 있고, N이 주어진다. N은 40보다 작거나 같은 자연수 또는 0이다.  \n",
    "\n",
    "출력  \n",
    "각 테스트 케이스마다 0이 출력되는 횟수와 1이 출력되는 횟수를 공백으로 구분해서 출력한다."
   ]
  },
  {
   "cell_type": "code",
   "execution_count": 4,
   "id": "69160e22-1edd-4cb4-a2eb-0dbf9f5ebfdf",
   "metadata": {
    "jp-MarkdownHeadingCollapsed": true,
    "tags": []
   },
   "outputs": [
    {
     "name": "stdout",
     "output_type": "stream",
     "text": [
      "5 8\n",
      "10946 17711\n",
      "1 1\n"
     ]
    }
   ],
   "source": [
    "# 세팅\n",
    "\n",
    "dp = [[0]*41 for _ in range(2)] # [ 0번 ~ 41번 ] [ 숫자 0 ~ 40 ], 문제 조건 : 숫자 40까지 필요\n",
    "dp[0][0] = dp[1][1] = 1\n",
    "dp[0][1] = dp[1][0] = 0\n",
    "\n",
    "for _ in range(2,41): # [ 앞에 0, 1은 고정  ]\n",
    "    dp[0][_] = dp[0][_-2] + dp[0][_-1]\n",
    "    dp[1][_] = dp[1][_-2] + dp[1][_-1]\n",
    "\n",
    "# 검색\n",
    "\n",
    "for _ in range(int(input())):\n",
    "    a = int(input())\n",
    "    print(dp[0][a],dp[1][a])\n",
    "    \n",
    "    \n"
   ]
  }
 ],
 "metadata": {
  "kernelspec": {
   "display_name": "Python 3 (ipykernel)",
   "language": "python",
   "name": "python3"
  },
  "language_info": {
   "codemirror_mode": {
    "name": "ipython",
    "version": 3
   },
   "file_extension": ".py",
   "mimetype": "text/x-python",
   "name": "python",
   "nbconvert_exporter": "python",
   "pygments_lexer": "ipython3",
   "version": "3.8.2"
  }
 },
 "nbformat": 4,
 "nbformat_minor": 5
}
