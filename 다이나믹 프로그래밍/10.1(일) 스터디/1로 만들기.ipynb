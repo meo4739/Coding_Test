{
 "cells": [
  {
   "cell_type": "markdown",
   "id": "a7d23f3f-2e64-4ccf-8d13-e4ba3d635028",
   "metadata": {},
   "source": [
    "문제\n",
    "정수 X에 사용할 수 있는 연산은 다음과 같이 세 가지 이다.\n",
    "\n",
    "X가 3으로 나누어 떨어지면, 3으로 나눈다.  \n",
    "X가 2로 나누어 떨어지면, 2로 나눈다.\n",
    "1을 뺀다.\n",
    "정수 N이 주어졌을 때, 위와 같은 연산 세 개를 적절히 사용해서 1을 만들려고 한다.   \n",
    "연산을 사용하는 횟수의 최솟값을 출력하시오.\n",
    "\n",
    "입력\n",
    "첫째 줄에 1보다 크거나 같고, 106보다 작거나 같은 정수 N이 주어진다.\n",
    "\n",
    "출력\n",
    "첫째 줄에 연산을 하는 횟수의 최솟값을 출력한다."
   ]
  },
  {
   "cell_type": "code",
   "execution_count": 28,
   "id": "d2dbdabb-fd54-411d-a686-b794ca8cdee9",
   "metadata": {
    "tags": []
   },
   "outputs": [
    {
     "name": "stdin",
     "output_type": "stream",
     "text": [
      " 10\n"
     ]
    },
    {
     "name": "stdout",
     "output_type": "stream",
     "text": [
      "[0, 0, 1, 1, 2, 3, 2, 3, 3, 2, 3]\n",
      "3\n"
     ]
    }
   ],
   "source": [
    "n = int(input())\n",
    "\n",
    "# 인덱스가 0부터 시작하므로 하므로 [0]*[n+1]\n",
    "dp = [0]*(n+1)\n",
    "\n",
    "# 1로 만드는 문제에서 1은 연산 횟수 0, 그냥 1 자체, 따라서 인덱스 2번부터 시작\n",
    "\n",
    "for i in range(2, n+1):\n",
    "    # dp[i]에 연산 시행 횟수를 기록한다.\n",
    "    # \"+1 연산\"이 적용된다면 이전 숫자의 연산 시행 횟수에서 +1이 된다.\n",
    "    dp[i] = dp[i-1]+1\n",
    "    \n",
    "    # \"+1 연산\"이 적용된 경우보다 2 혹은 3으로 나누는 경우가 연산 시행 횟수가 더 적은 지 확인\n",
    "    # 6 같은 경우를 생각하면 if-elif가 아닌 if-if로 해야한다.\n",
    "    if i%2==0:\n",
    "        dp[i] = min(dp[i], dp[i//2]+1)\n",
    "    if i%3==0:\n",
    "        dp[i] = min(dp[i], dp[i//3]+1)\n",
    "\n",
    "print(dp)\n",
    "answer = dp[n]\n",
    "print(answer)"
   ]
  },
  {
   "cell_type": "code",
   "execution_count": null,
   "id": "b1771edb-27df-485a-bd63-9417de1e0894",
   "metadata": {},
   "outputs": [],
   "source": []
  }
 ],
 "metadata": {
  "kernelspec": {
   "display_name": "Python 3 (ipykernel)",
   "language": "python",
   "name": "python3"
  },
  "language_info": {
   "codemirror_mode": {
    "name": "ipython",
    "version": 3
   },
   "file_extension": ".py",
   "mimetype": "text/x-python",
   "name": "python",
   "nbconvert_exporter": "python",
   "pygments_lexer": "ipython3",
   "version": "3.11.4"
  }
 },
 "nbformat": 4,
 "nbformat_minor": 5
}
