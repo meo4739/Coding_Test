{
 "cells": [
  {
   "cell_type": "markdown",
   "id": "31e6833b-845a-400e-bf0b-dbd0c6241fcd",
   "metadata": {
    "tags": []
   },
   "source": [
    "문제  \n",
    "평소 반상회에 참석하는 것을 좋아하는 주희는 이번 기회에 부녀회장이 되고 싶어 각 층의 사람들을 불러 모아 반상회를 주최하려고 한다.\n",
    "\n",
    "이 아파트에 거주를 하려면 조건이 있는데, “a층의 b호에 살려면 자신의 아래(a-1)층의 1호부터 b호까지 사람들의 수의 합만큼 사람들을 데려와 살아야 한다” 는 계약 조항을 꼭 지키고 들어와야 한다.\n",
    "\n",
    "아파트에 비어있는 집은 없고 모든 거주민들이 이 계약 조건을 지키고 왔다고 가정했을 때, 주어지는 양의 정수 k와 n에 대해 k층에 n호에는 몇 명이 살고 있는지 출력하라. 단, 아파트에는 0층부터 있고 각층에는 1호부터 있으며, 0층의 i호에는 i명이 산다.\n",
    "\n",
    "입력  \n",
    "첫 번째 줄에 Test case의 수 T가 주어진다. 그리고 각각의 케이스마다 입력으로 첫 번째 줄에 정수 k, 두 번째 줄에 정수 n이 주어진다\n",
    "\n",
    "출력  \n",
    "각각의 Test case에 대해서 해당 집에 거주민 수를 출력하라."
   ]
  },
  {
   "cell_type": "markdown",
   "id": "70fe564f-9b74-49c1-b252-f299e32405ed",
   "metadata": {},
   "source": [
    "입력  \n",
    "첫 번째 줄에 Test case의 수 T가 주어진다. 그리고 각각의 케이스마다 입력으로 첫 번째 줄에 정수 k, 두 번째 줄에 정수 n이 주어진다\n",
    "\n",
    "출력  \n",
    "각각의 Test case에 대해서 해당 집에 거주민 수를 출력하라.\n",
    "\n",
    "제한  \n",
    "1 ≤ k, n ≤ 14"
   ]
  },
  {
   "cell_type": "code",
   "execution_count": null,
   "id": "ca5ba68b-86a6-4efa-8e23-3edaf99172ac",
   "metadata": {
    "tags": []
   },
   "outputs": [],
   "source": [
    "a = int(input())\n",
    "for i in range(a):\n",
    "    # n층, k호\n",
    "    \n",
    "    n = int(input())\n",
    "    k = int(input())\n",
    "    \n",
    "    # space = [[1]*k]*n\n",
    "    space = [[0]*15 for _ in range(15)]\n",
    "    space[0] = [x for x in range(15)]\n",
    "    \n",
    "    for floor in range(1,15):\n",
    "        for number in range(1,15):\n",
    "            for k in range(1, number+1)\n",
    "             space[floor][number] += space[floor-1][k]\n",
    "            \n",
    "    print('='*50)\n",
    "\n",
    "print()\n",
    "\n",
    "    "
   ]
  },
  {
   "cell_type": "code",
   "execution_count": 19,
   "id": "876ad92d-3e20-4e55-80f9-b9dc95d48e69",
   "metadata": {
    "tags": []
   },
   "outputs": [
    {
     "name": "stdin",
     "output_type": "stream",
     "text": [
      " 10\n",
      " 1\n",
      " 2\n"
     ]
    },
    {
     "name": "stdout",
     "output_type": "stream",
     "text": [
      "3\n"
     ]
    },
    {
     "name": "stdin",
     "output_type": "stream",
     "text": [
      " 1\n",
      " 2\n"
     ]
    },
    {
     "name": "stdout",
     "output_type": "stream",
     "text": [
      "3\n"
     ]
    },
    {
     "name": "stdin",
     "output_type": "stream",
     "text": [
      " 1\n",
      " 2\n"
     ]
    },
    {
     "name": "stdout",
     "output_type": "stream",
     "text": [
      "3\n"
     ]
    },
    {
     "name": "stdin",
     "output_type": "stream",
     "text": [
      " 1\n",
      " 2\n"
     ]
    },
    {
     "name": "stdout",
     "output_type": "stream",
     "text": [
      "3\n"
     ]
    },
    {
     "name": "stdin",
     "output_type": "stream",
     "text": [
      " 1\n",
      " 2\n"
     ]
    },
    {
     "name": "stdout",
     "output_type": "stream",
     "text": [
      "3\n"
     ]
    },
    {
     "name": "stdin",
     "output_type": "stream",
     "text": [
      " 1\n",
      " 2\n"
     ]
    },
    {
     "name": "stdout",
     "output_type": "stream",
     "text": [
      "3\n"
     ]
    },
    {
     "name": "stdin",
     "output_type": "stream",
     "text": [
      " 3\n",
      " 4\n"
     ]
    },
    {
     "name": "stdout",
     "output_type": "stream",
     "text": [
      "35\n"
     ]
    },
    {
     "name": "stdin",
     "output_type": "stream",
     "text": [
      " 3\n",
      " 4\n"
     ]
    },
    {
     "name": "stdout",
     "output_type": "stream",
     "text": [
      "35\n"
     ]
    },
    {
     "name": "stdin",
     "output_type": "stream",
     "text": [
      " 5\n",
      " 6\n"
     ]
    },
    {
     "name": "stdout",
     "output_type": "stream",
     "text": [
      "462\n"
     ]
    },
    {
     "name": "stdin",
     "output_type": "stream",
     "text": [
      " 7\n",
      " 8\n"
     ]
    },
    {
     "name": "stdout",
     "output_type": "stream",
     "text": [
      "6435\n"
     ]
    }
   ],
   "source": [
    "# 세팅\n",
    "space = [[0]*15 for _ in range(15)]\n",
    "space[0] = [x for x in range(15)]\n",
    "\n",
    "for floor in range(1,15):\n",
    "    for number in range(1,15):\n",
    "        for k in range(1,number+1):\n",
    "            space[floor][number] += space[floor-1][k]\n",
    "\n",
    "        \n",
    "# 숫자 찾기\n",
    "re = int(input())\n",
    "\n",
    "for _ in range(re):\n",
    "    k, n = int(input()), int(input())\n",
    "    # 위에 세팅된 곳에서 k = floor(층수), n = number(호수)\n",
    "    print(space[k][n])\n"
   ]
  },
  {
   "cell_type": "code",
   "execution_count": null,
   "id": "575b2d98-4a17-4ede-921b-efbe39e1ce02",
   "metadata": {},
   "outputs": [],
   "source": []
  },
  {
   "cell_type": "code",
   "execution_count": 126,
   "id": "0cb6ce36-6012-41f4-a387-49877696b6a1",
   "metadata": {
    "tags": []
   },
   "outputs": [
    {
     "data": {
      "text/plain": [
       "1"
      ]
     },
     "execution_count": 126,
     "metadata": {},
     "output_type": "execute_result"
    }
   ],
   "source": [
    "space = [[1]*3]*3\n",
    "for "
   ]
  },
  {
   "cell_type": "code",
   "execution_count": 2,
   "id": "e94a47b7-66c7-4eda-9438-e06ff69903f3",
   "metadata": {
    "tags": []
   },
   "outputs": [
    {
     "name": "stdin",
     "output_type": "stream",
     "text": [
      " 1 3\n"
     ]
    },
    {
     "name": "stdout",
     "output_type": "stream",
     "text": [
      "1\n",
      "3\n"
     ]
    }
   ],
   "source": [
    "n, k = input().split()\n",
    "print(n)\n",
    "print(k)"
   ]
  },
  {
   "cell_type": "code",
   "execution_count": 96,
   "id": "46b70646-ed62-47e2-a4fd-b652fd20c9d7",
   "metadata": {
    "tags": []
   },
   "outputs": [
    {
     "name": "stdout",
     "output_type": "stream",
     "text": [
      "2\n",
      "3\n"
     ]
    }
   ],
   "source": [
    "for i in [1,2,3][1:]:\n",
    "    print(i)"
   ]
  },
  {
   "cell_type": "code",
   "execution_count": 97,
   "id": "3a0490cc-5a00-440b-a3a1-77c659fba983",
   "metadata": {
    "tags": []
   },
   "outputs": [
    {
     "data": {
      "text/plain": [
       "[2, 0, 0]"
      ]
     },
     "execution_count": 97,
     "metadata": {},
     "output_type": "execute_result"
    }
   ],
   "source": [
    "i = [0, 0, 0]\n",
    "i[0]=1 + 1\n",
    "i"
   ]
  },
  {
   "cell_type": "code",
   "execution_count": 18,
   "id": "2171bdc1-e885-4290-9f0a-3f260b1a3822",
   "metadata": {
    "tags": []
   },
   "outputs": [
    {
     "data": {
      "text/plain": [
       "[0, 0, 0, 0, 0, 0, 0, 0, 0, 0, 0, 0, 0, 0, 0]"
      ]
     },
     "execution_count": 18,
     "metadata": {},
     "output_type": "execute_result"
    }
   ],
   "source": [
    "[0]*15"
   ]
  }
 ],
 "metadata": {
  "kernelspec": {
   "display_name": "Python 3 (ipykernel)",
   "language": "python",
   "name": "python3"
  },
  "language_info": {
   "codemirror_mode": {
    "name": "ipython",
    "version": 3
   },
   "file_extension": ".py",
   "mimetype": "text/x-python",
   "name": "python",
   "nbconvert_exporter": "python",
   "pygments_lexer": "ipython3",
   "version": "3.11.4"
  }
 },
 "nbformat": 4,
 "nbformat_minor": 5
}
