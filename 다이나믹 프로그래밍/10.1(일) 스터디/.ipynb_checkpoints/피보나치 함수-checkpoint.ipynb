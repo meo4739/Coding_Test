{
 "cells": [
  {
   "cell_type": "markdown",
   "id": "face72f2-2ae5-4056-92f2-395e5989799f",
   "metadata": {
    "tags": []
   },
   "source": [
    "fibonacci(3)을 호출하면 다음과 같은 일이 일어난다.\n",
    "\n",
    "fibonacci(3)은 fibonacci(2)와 fibonacci(1) (첫 번째 호출)을 호출한다.  \n",
    "fibonacci(2)는 fibonacci(1) (두 번째 호출)과 fibonacci(0)을 호출한다.  \n",
    "두 번째 호출한 fibonacci(1)은 1을 출력하고 1을 리턴한다.  \n",
    "fibonacci(0)은 0을 출력하고, 0을 리턴한다.  \n",
    "fibonacci(2)는 fibonacci(1)과 fibonacci(0)의 결과를 얻고, 1을 리턴한다.  \n",
    "첫 번째 호출한 fibonacci(1)은 1을 출력하고, 1을 리턴한다.  \n",
    "fibonacci(3)은 fibonacci(2)와 fibonacci(1)의 결과를 얻고, 2를 리턴한다.  \n",
    "1은 2번 출력되고, 0은 1번 출력된다. N이 주어졌을 때, fibonacci(N)을 호출했을 때, 0과 1이 각각 몇 번 출력되는지 구하는 프로그램을 작성하시오.  \n",
    "\n",
    "입력  \n",
    "첫째 줄에 테스트 케이스의 개수 T가 주어진다.  \n",
    "\n",
    "각 테스트 케이스는 한 줄로 이루어져 있고, N이 주어진다. N은 40보다 작거나 같은 자연수 또는 0이다.  \n",
    "\n",
    "출력  \n",
    "각 테스트 케이스마다 0이 출력되는 횟수와 1이 출력되는 횟수를 공백으로 구분해서 출력한다."
   ]
  },
  {
   "cell_type": "code",
   "execution_count": 2,
   "id": "6be42463-d2c2-44ad-8ccc-ccbfad7ecbd3",
   "metadata": {
    "tags": []
   },
   "outputs": [
    {
     "name": "stdin",
     "output_type": "stream",
     "text": [
      " 3\n",
      " 0\n"
     ]
    },
    {
     "name": "stdout",
     "output_type": "stream",
     "text": [
      "1 0\n"
     ]
    },
    {
     "name": "stdin",
     "output_type": "stream",
     "text": [
      " 1\n"
     ]
    },
    {
     "name": "stdout",
     "output_type": "stream",
     "text": [
      "0 1\n"
     ]
    },
    {
     "name": "stdin",
     "output_type": "stream",
     "text": [
      " 3\n"
     ]
    },
    {
     "name": "stdout",
     "output_type": "stream",
     "text": [
      "1 2\n"
     ]
    }
   ],
   "source": []
  },
  {
   "cell_type": "code",
   "execution_count": 8,
   "id": "d641530a-6c54-42dd-b9ad-d884f930a30a",
   "metadata": {
    "tags": []
   },
   "outputs": [
    {
     "data": {
      "text/plain": [
       "[1, 2, 0, 0, 0, 0, 0]"
      ]
     },
     "execution_count": 8,
     "metadata": {},
     "output_type": "execute_result"
    }
   ],
   "source": [
    "a = [1,2]\n",
    "a = a + [0]*5\n",
    "a"
   ]
  },
  {
   "cell_type": "code",
   "execution_count": 20,
   "id": "fb3e729f-5922-45fb-b36f-ec0874ab3700",
   "metadata": {
    "tags": []
   },
   "outputs": [
    {
     "data": {
      "text/plain": [
       "0"
      ]
     },
     "execution_count": 20,
     "metadata": {},
     "output_type": "execute_result"
    }
   ],
   "source": [
    "dp = [[],[],[]] # [숫자]\n",
    "dp[0] = [0,1]\n",
    "dp[0] = dp[0] + [0]*38 # 0,1, 2 ~ 39(=38개) --> 40개\n",
    "len(dp[0])\n",
    "dp[0][38]"
   ]
  },
  {
   "cell_type": "code",
   "execution_count": null,
   "id": "69160e22-1edd-4cb4-a2eb-0dbf9f5ebfdf",
   "metadata": {
    "jp-MarkdownHeadingCollapsed": true,
    "tags": []
   },
   "outputs": [],
   "source": [
    "dp = []\n",
    "dp = [0,1]\n",
    "dp = dp + [0]*38 # 0,1, 2 ~ 39(=38개) --> 40개\n",
    "\n",
    "cnt0 = 0\n",
    "cnt1 = 0\n",
    "\n",
    "for num in range(2,39+1):\n",
    "    dp[num] = dp[num-1] + dp[num-2]\n",
    "\n",
    "\n",
    "\n",
    "for i in range(int(input())):\n",
    "    n = int(input())\n",
    "    cnt0 = 0\n",
    "    cnt1 = 0\n",
    "    for num in dp[:n+1]: # 0부터 시작하므로 n+1\n",
    "        if num ==0:\n",
    "            cnt0 +=1\n",
    "        if num ==1:\n",
    "            cnt1 +=1\n",
    "    print(cnt0,cnt1)"
   ]
  },
  {
   "cell_type": "code",
   "execution_count": 25,
   "id": "dcf2b64a-9ac9-42c9-954e-264071ba7ff5",
   "metadata": {
    "tags": []
   },
   "outputs": [
    {
     "data": {
      "text/plain": [
       "[0, 1, 2, 3]"
      ]
     },
     "execution_count": 25,
     "metadata": {},
     "output_type": "execute_result"
    }
   ],
   "source": [
    "a = [0, 1,2,3,4]\n",
    "a[:3+1]"
   ]
  }
 ],
 "metadata": {
  "kernelspec": {
   "display_name": "Python 3 (ipykernel)",
   "language": "python",
   "name": "python3"
  },
  "language_info": {
   "codemirror_mode": {
    "name": "ipython",
    "version": 3
   },
   "file_extension": ".py",
   "mimetype": "text/x-python",
   "name": "python",
   "nbconvert_exporter": "python",
   "pygments_lexer": "ipython3",
   "version": "3.11.4"
  }
 },
 "nbformat": 4,
 "nbformat_minor": 5
}
